{
 "cells": [
  {
   "cell_type": "code",
   "execution_count": 1,
   "id": "436b0acc",
   "metadata": {},
   "outputs": [],
   "source": [
    "list_1 = [1, 2, 3, 4]"
   ]
  },
  {
   "cell_type": "code",
   "execution_count": 2,
   "id": "01a5a11e",
   "metadata": {},
   "outputs": [],
   "source": [
    "list_2 = [1, 5, 5, 6, 1]"
   ]
  },
  {
   "cell_type": "code",
   "execution_count": 5,
   "id": "21d21255",
   "metadata": {},
   "outputs": [
    {
     "name": "stdout",
     "output_type": "stream",
     "text": [
      "11\n",
      "12\n",
      "13\n",
      "14\n"
     ]
    }
   ],
   "source": [
    "def inc_plus(x):\n",
    "    return x + 10\n",
    "\n",
    "map(inc_plus, list_1)\n",
    "for i in map(inc_plus, list_1):\n",
    "    print(i)"
   ]
  },
  {
   "cell_type": "code",
   "execution_count": 8,
   "id": "38ac9875",
   "metadata": {},
   "outputs": [
    {
     "name": "stdout",
     "output_type": "stream",
     "text": [
      "1\n",
      "32\n",
      "243\n",
      "4096\n"
     ]
    }
   ],
   "source": [
    "map(lambda x, y: x**y, list_1, list_2)\n",
    "for i in map(lambda x, y: x**y, list_1, list_2):\n",
    "    print(i)"
   ]
  },
  {
   "cell_type": "code",
   "execution_count": 10,
   "id": "bb91ed9e",
   "metadata": {},
   "outputs": [
    {
     "data": {
      "text/plain": [
       "[1, 10, 15, 24]"
      ]
     },
     "execution_count": 10,
     "metadata": {},
     "output_type": "execute_result"
    }
   ],
   "source": [
    "[x * y for x, y in zip(list_1, list_2)]"
   ]
  },
  {
   "cell_type": "code",
   "execution_count": null,
   "id": "f98677ab",
   "metadata": {},
   "outputs": [],
   "source": []
  },
  {
   "cell_type": "code",
   "execution_count": 12,
   "id": "6486f1dc",
   "metadata": {},
   "outputs": [],
   "source": [
    "class Circle(object):\n",
    "    pass\n",
    "\n",
    "class Square(object):\n",
    "    pass"
   ]
  },
  {
   "cell_type": "code",
   "execution_count": 13,
   "id": "07bf5cfe",
   "metadata": {},
   "outputs": [],
   "source": [
    "c1 = Circle()\n",
    "c1.radius = 1\n",
    "\n",
    "c2 = Circle()\n",
    "c2.radius = .5"
   ]
  },
  {
   "cell_type": "code",
   "execution_count": 14,
   "id": "32aedf63",
   "metadata": {},
   "outputs": [],
   "source": [
    "s1 = Square()\n",
    "s2 = Square()\n",
    "s1.side = 1\n",
    "s2.side = 2"
   ]
  },
  {
   "cell_type": "code",
   "execution_count": 15,
   "id": "64af770e",
   "metadata": {},
   "outputs": [
    {
     "name": "stdout",
     "output_type": "stream",
     "text": [
      "Area of C1: 3.14\n",
      "Area of C2: 0.785\n"
     ]
    }
   ],
   "source": [
    "area_c1 = 3.14 * (c1.radius ** 2)\n",
    "print(\"Area of C1: {}\".format(area_c1))\n",
    "\n",
    "area_c2 = 3.14 * (c2.radius ** 2)\n",
    "print(\"Area of C2: {}\".format(area_c2))"
   ]
  },
  {
   "cell_type": "code",
   "execution_count": 16,
   "id": "54fa13a6",
   "metadata": {},
   "outputs": [
    {
     "name": "stdout",
     "output_type": "stream",
     "text": [
      "Area of S1: 1\n",
      "Area of S2: 4\n"
     ]
    }
   ],
   "source": [
    "def area_of_square(sq):\n",
    "    return sq.side ** 2\n",
    "\n",
    "print(\"Area of S1: {}\".format(area_of_square(s1)))\n",
    "print(\"Area of S2: {}\".format(area_of_square(s2)))"
   ]
  },
  {
   "cell_type": "code",
   "execution_count": 17,
   "id": "ae823a48",
   "metadata": {},
   "outputs": [
    {
     "name": "stdout",
     "output_type": "stream",
     "text": [
      "Area of C1: 3.14\n",
      "Area of C2: 0.785\n",
      "Area of S1: 1\n",
      "Area of S2: 4\n"
     ]
    }
   ],
   "source": [
    "def area(obj):\n",
    "    if isinstance(obj, Circle):\n",
    "        return 3.14 * (obj.radius ** 2)\n",
    "    elif isinstance(obj, Square):\n",
    "        return obj.side ** 2\n",
    "    else:\n",
    "        raise ValueError(\"Not supported object\")\n",
    "\n",
    "print(\"Area of C1: {}\".format(area(c1)))\n",
    "print(\"Area of C2: {}\".format(area(c2)))\n",
    "print(\"Area of S1: {}\".format(area(s1)))\n",
    "print(\"Area of S2: {}\".format(area(s2)))"
   ]
  },
  {
   "cell_type": "markdown",
   "id": "99d5384e",
   "metadata": {},
   "source": []
  },
  {
   "cell_type": "markdown",
   "id": "64c9cfa4",
   "metadata": {},
   "source": []
  },
  {
   "cell_type": "code",
   "execution_count": 25,
   "id": "fe92add6",
   "metadata": {},
   "outputs": [],
   "source": [
    "class Bookstore(object):\n",
    "    def __init__(self, name):\n",
    "        self.name = name\n",
    "        self.books = []\n",
    "\n",
    "    def get_books(self):\n",
    "        return self.books\n",
    "\n",
    "    def add_book(self, book):\n",
    "        self.books.append(book)\n",
    "\n",
    "    def search_books(self, title=None, author=None):\n",
    "        results = []\n",
    "        for book in self.books:\n",
    "            if title and title.lower() not in book.title.lower():\n",
    "                continue\n",
    "            if author and book.author != author:\n",
    "                continue\n",
    "            results.append(book)\n",
    "\n",
    "        return results"
   ]
  },
  {
   "cell_type": "code",
   "execution_count": 27,
   "id": "9ac6a1ec",
   "metadata": {},
   "outputs": [],
   "source": [
    "class Author(object):\n",
    "    def __init__(self, name, nationality):\n",
    "        self.name = name\n",
    "        self.nationality = nationality\n",
    "        self.books = []\n",
    "\n",
    "    def add_book(self, book):\n",
    "        self.books.append(book)\n",
    "\n",
    "    def get_books(self):\n",
    "        return self.books\n",
    "    \n",
    "    def __repr__(self):\n",
    "        return \"Author('{}', '{}')\".format(self.name, self.nationality)"
   ]
  },
  {
   "cell_type": "code",
   "execution_count": 28,
   "id": "811fdeb0",
   "metadata": {},
   "outputs": [],
   "source": [
    "class Book(object):\n",
    "    def __init__(self, title, author):\n",
    "        self.title = title\n",
    "        self.author = author\n",
    "\n",
    "        self.author.add_book(self)\n",
    "        \n",
    "    def __str__(self):\n",
    "        return '{} by {}'.format(self.title, self.author.name)\n",
    "    \n",
    "    def __repr__(self):\n",
    "        return \"Book('{}', author={})\".format(self.title, repr(self.author))"
   ]
  },
  {
   "cell_type": "code",
   "execution_count": 21,
   "id": "5ff4c008",
   "metadata": {},
   "outputs": [
    {
     "name": "stdout",
     "output_type": "stream",
     "text": [
      "Edgar Allan Poe\n",
      "US\n",
      "Jane Austen\n",
      "UK\n"
     ]
    }
   ],
   "source": [
    "poe = Author('Edgar Allan Poe', 'US')\n",
    "austen = Author(\"Jane Austen\", 'UK')\n",
    "print(poe.name)\n",
    "print(poe.nationality)\n",
    "print(austen.name)\n",
    "print(austen.nationality)"
   ]
  },
  {
   "cell_type": "code",
   "execution_count": 29,
   "id": "832f435e",
   "metadata": {},
   "outputs": [
    {
     "name": "stdout",
     "output_type": "stream",
     "text": [
      "The Facts in the Case of M. Valdemar\n",
      "Pride and Prejudice\n"
     ]
    }
   ],
   "source": [
    "poe = Author('Edgar Allan Poe', 'US')\n",
    "austen = Author(\"Jane Austen\", 'UK')\n",
    "\n",
    "valdemar = Book(\"The Facts in the Case of M. Valdemar\", author=poe)\n",
    "pride = Book(\"Pride and Prejudice\", author=austen)\n",
    "\n",
    "print(valdemar.title)\n",
    "print(pride.title)"
   ]
  },
  {
   "cell_type": "code",
   "execution_count": 30,
   "id": "5b8c3330",
   "metadata": {},
   "outputs": [
    {
     "name": "stdout",
     "output_type": "stream",
     "text": [
      "Author('Edgar Allan Poe', 'US')\n"
     ]
    }
   ],
   "source": [
    "print(valdemar.author)"
   ]
  },
  {
   "cell_type": "code",
   "execution_count": 31,
   "id": "69dc809b",
   "metadata": {},
   "outputs": [
    {
     "name": "stdout",
     "output_type": "stream",
     "text": [
      "Edgar Allan Poe\n"
     ]
    }
   ],
   "source": [
    "print(valdemar.author.name)"
   ]
  },
  {
   "cell_type": "code",
   "execution_count": null,
   "id": "2563fd2b",
   "metadata": {},
   "outputs": [],
   "source": []
  }
 ],
 "metadata": {
  "kernelspec": {
   "display_name": "Python 3 (ipykernel)",
   "language": "python",
   "name": "python3"
  },
  "language_info": {
   "codemirror_mode": {
    "name": "ipython",
    "version": 3
   },
   "file_extension": ".py",
   "mimetype": "text/x-python",
   "name": "python",
   "nbconvert_exporter": "python",
   "pygments_lexer": "ipython3",
   "version": "3.9.7"
  }
 },
 "nbformat": 4,
 "nbformat_minor": 5
}
