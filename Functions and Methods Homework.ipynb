{
 "cells": [
  {
   "cell_type": "code",
   "execution_count": 5,
   "id": "fa74a088",
   "metadata": {},
   "outputs": [],
   "source": [
    "def vol(rad):\n",
    "    result = (4/3)*(3.14)*(rad**3)\n",
    "    return result"
   ]
  },
  {
   "cell_type": "code",
   "execution_count": 6,
   "id": "c56dcc63",
   "metadata": {},
   "outputs": [
    {
     "data": {
      "text/plain": [
       "33.49333333333333"
      ]
     },
     "execution_count": 6,
     "metadata": {},
     "output_type": "execute_result"
    }
   ],
   "source": [
    "vol(2)"
   ]
  },
  {
   "cell_type": "code",
   "execution_count": null,
   "id": "f93fc9fb",
   "metadata": {},
   "outputs": [],
   "source": []
  },
  {
   "cell_type": "code",
   "execution_count": 11,
   "id": "247abf0b",
   "metadata": {},
   "outputs": [],
   "source": [
    "def ran_check(num,low,high):\n",
    "    return num in range (low,high+1)"
   ]
  },
  {
   "cell_type": "code",
   "execution_count": 12,
   "id": "2961d230",
   "metadata": {},
   "outputs": [
    {
     "data": {
      "text/plain": [
       "False"
      ]
     },
     "execution_count": 12,
     "metadata": {},
     "output_type": "execute_result"
    }
   ],
   "source": [
    "ran_check(2,8,6)"
   ]
  },
  {
   "cell_type": "code",
   "execution_count": null,
   "id": "696df779",
   "metadata": {},
   "outputs": [],
   "source": []
  },
  {
   "cell_type": "code",
   "execution_count": 13,
   "id": "3b92ff95",
   "metadata": {},
   "outputs": [],
   "source": [
    "def up_low(s):\n",
    "    lowercase = 0\n",
    "    uppercase = 0\n",
    "    \n",
    "    for char in s:\n",
    "        if char.isupper():\n",
    "            uppercase += 1 \n",
    "        elif char.islower():\n",
    "            lowercase += 1\n",
    "        else:\n",
    "            pass\n",
    "        \n",
    "    print(f\"Original string: {s}\")\n",
    "    print(f'Lowercase count: {lowercase}')\n",
    "    print(f'Uppercase count: {uppercase}')"
   ]
  },
  {
   "cell_type": "code",
   "execution_count": 14,
   "id": "9567930f",
   "metadata": {},
   "outputs": [
    {
     "name": "stdout",
     "output_type": "stream",
     "text": [
      "Original string: Hello Mr.Roger, How are you doing on Tuesday?\n",
      "Lowercase count: 30\n",
      "Uppercase count: 5\n"
     ]
    }
   ],
   "source": [
    "s = 'Hello Mr.Roger, How are you doing on Tuesday?'\n",
    "up_low(s)"
   ]
  },
  {
   "cell_type": "markdown",
   "id": "c00ad198",
   "metadata": {},
   "source": [
    "Unique list"
   ]
  },
  {
   "cell_type": "code",
   "execution_count": 26,
   "id": "a005f9d6",
   "metadata": {},
   "outputs": [],
   "source": [
    "def unique_list(lst):\n",
    "    seen_numbers = []\n",
    "    for number in lst:\n",
    "        if number not in seen_numbers:\n",
    "            seen_numbers.append(number)\n",
    "    return seen_numbers"
   ]
  },
  {
   "cell_type": "code",
   "execution_count": 27,
   "id": "a56628bc",
   "metadata": {},
   "outputs": [
    {
     "data": {
      "text/plain": [
       "[1, 2, 4, 5, 9]"
      ]
     },
     "execution_count": 27,
     "metadata": {},
     "output_type": "execute_result"
    }
   ],
   "source": [
    "unique_list([1,1,2,2,2,4,5,5,5,5,9,9,9,9])"
   ]
  },
  {
   "cell_type": "markdown",
   "id": "6916da20",
   "metadata": {},
   "source": [
    "Multiply"
   ]
  },
  {
   "cell_type": "code",
   "execution_count": 28,
   "id": "8c2c18b4",
   "metadata": {},
   "outputs": [],
   "source": [
    "def multiply(numbers):\n",
    "    total = 1\n",
    "    for num in numbers:\n",
    "        total = total * num\n",
    "    return total"
   ]
  },
  {
   "cell_type": "code",
   "execution_count": 29,
   "id": "8ab9dcd8",
   "metadata": {},
   "outputs": [
    {
     "data": {
      "text/plain": [
       "-24"
      ]
     },
     "execution_count": 29,
     "metadata": {},
     "output_type": "execute_result"
    }
   ],
   "source": [
    "multiply([1,-2,3,4])"
   ]
  },
  {
   "cell_type": "code",
   "execution_count": null,
   "id": "e6c087db",
   "metadata": {},
   "outputs": [],
   "source": []
  },
  {
   "cell_type": "code",
   "execution_count": 30,
   "id": "df3a7640",
   "metadata": {},
   "outputs": [],
   "source": [
    "def check_even_list(num_list):\n",
    "    \n",
    "    even_numbers = []\n",
    "    \n",
    "    for number in num_list:\n",
    "        if number % 2 == 0:\n",
    "            even_numbers.append(number)\n",
    "        else:\n",
    "            pass\n",
    "        \n",
    "    return even_numbers"
   ]
  },
  {
   "cell_type": "code",
   "execution_count": 31,
   "id": "9961f7e0",
   "metadata": {},
   "outputs": [
    {
     "data": {
      "text/plain": [
       "[22, 24, 26]"
      ]
     },
     "execution_count": 31,
     "metadata": {},
     "output_type": "execute_result"
    }
   ],
   "source": [
    "check_even_list([22,23,24,25,26,27])"
   ]
  },
  {
   "cell_type": "code",
   "execution_count": null,
   "id": "c2633cfc",
   "metadata": {},
   "outputs": [],
   "source": []
  },
  {
   "cell_type": "code",
   "execution_count": 35,
   "id": "fb840966",
   "metadata": {},
   "outputs": [],
   "source": [
    "def count_primes(num):\n",
    "    \n",
    "    if num < 2:\n",
    "        return 0\n",
    "    \n",
    "    primes = [2]\n",
    "    x = 3\n",
    "    \n",
    "    while x <= num:\n",
    "        for y in range(3,x,2):\n",
    "            if x%y == 0:\n",
    "                x += 2\n",
    "                break\n",
    "        else:\n",
    "            primes.append(x)\n",
    "            x += 2\n",
    "            \n",
    "    print(primes)\n",
    "    return len(primes)"
   ]
  },
  {
   "cell_type": "code",
   "execution_count": 36,
   "id": "388b5c7c",
   "metadata": {},
   "outputs": [
    {
     "name": "stdout",
     "output_type": "stream",
     "text": [
      "[2, 3, 5, 7, 11, 13, 17, 19, 23, 29, 31, 37, 41, 43, 47, 53, 59, 61, 67, 71, 73, 79, 83, 89, 97]\n"
     ]
    },
    {
     "data": {
      "text/plain": [
       "25"
      ]
     },
     "execution_count": 36,
     "metadata": {},
     "output_type": "execute_result"
    }
   ],
   "source": [
    "count_primes(100)"
   ]
  },
  {
   "cell_type": "code",
   "execution_count": null,
   "id": "1436c581",
   "metadata": {},
   "outputs": [],
   "source": []
  },
  {
   "cell_type": "code",
   "execution_count": null,
   "id": "ea5e3b1f",
   "metadata": {},
   "outputs": [],
   "source": []
  }
 ],
 "metadata": {
  "kernelspec": {
   "display_name": "Python 3 (ipykernel)",
   "language": "python",
   "name": "python3"
  },
  "language_info": {
   "codemirror_mode": {
    "name": "ipython",
    "version": 3
   },
   "file_extension": ".py",
   "mimetype": "text/x-python",
   "name": "python",
   "nbconvert_exporter": "python",
   "pygments_lexer": "ipython3",
   "version": "3.9.7"
  }
 },
 "nbformat": 4,
 "nbformat_minor": 5
}
